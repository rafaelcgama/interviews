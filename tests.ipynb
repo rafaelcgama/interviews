{
 "cells": [
  {
   "cell_type": "code",
   "source": [
    "class Student:\n",
    "   def __init__(self, name, age):\n",
    "       self.__name = name  # Private attribute\n",
    "       self.__age = age    # Private attribute\n",
    "\n",
    "   def get_name(self):\n",
    "       return self.__name\n",
    "\n",
    "   def set_name(self, name):\n",
    "       self.__name = name\n",
    "\n",
    "   def get_age(self):\n",
    "       return self.__age\n",
    "\n",
    "   def set_age(self, age):\n",
    "       if age >= 0:\n",
    "           self.__age = age\n",
    "       else:\n",
    "           print(\"Age cannot be negative!\")\n",
    "# Creating an instance of the Student class\n",
    "student1 = Student(\"Alice\", 20)"
   ],
   "metadata": {
    "collapsed": false,
    "ExecuteTime": {
     "end_time": "2025-02-15T02:51:35.284033Z",
     "start_time": "2025-02-15T02:51:35.280455Z"
    }
   },
   "outputs": [],
   "execution_count": 8
  },
  {
   "metadata": {
    "ExecuteTime": {
     "end_time": "2025-02-15T02:53:04.251721Z",
     "start_time": "2025-02-15T02:53:04.249231Z"
    }
   },
   "cell_type": "code",
   "source": "student1.set_name('Rafael')",
   "outputs": [],
   "execution_count": 12
  },
  {
   "metadata": {
    "ExecuteTime": {
     "end_time": "2025-02-15T02:53:17.148943Z",
     "start_time": "2025-02-15T02:53:17.146311Z"
    }
   },
   "cell_type": "code",
   "source": "student1.get_name()",
   "outputs": [
    {
     "data": {
      "text/plain": [
       "'Rafael'"
      ]
     },
     "execution_count": 13,
     "metadata": {},
     "output_type": "execute_result"
    }
   ],
   "execution_count": 13
  },
  {
   "metadata": {},
   "cell_type": "code",
   "outputs": [],
   "execution_count": null,
   "source": ""
  }
 ],
 "metadata": {
  "kernelspec": {
   "display_name": "Python 3",
   "language": "python",
   "name": "python3"
  },
  "language_info": {
   "codemirror_mode": {
    "name": "ipython",
    "version": 2
   },
   "file_extension": ".py",
   "mimetype": "text/x-python",
   "name": "python",
   "nbconvert_exporter": "python",
   "pygments_lexer": "ipython2",
   "version": "2.7.6"
  }
 },
 "nbformat": 4,
 "nbformat_minor": 0
}
