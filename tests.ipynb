{
 "cells": [
  {
   "cell_type": "code",
   "execution_count": 1,
   "outputs": [
    {
     "data": {
      "text/plain": "'\\x01i\\x04hate\\x02to\\x05study'"
     },
     "execution_count": 1,
     "metadata": {},
     "output_type": "execute_result"
    }
   ],
   "source": [
    "from collections import Counter\n",
    "\n",
    "def encode(mylist):\n",
    "    result = ''\n",
    "    for word in mylist:\n",
    "        result += (chr(len(word)) + word)\n",
    "    return result\n",
    "\n",
    "encode(['i', 'hate', 'to', 'study'])"
   ],
   "metadata": {
    "collapsed": false,
    "ExecuteTime": {
     "end_time": "2023-06-20T21:49:08.719833Z",
     "start_time": "2023-06-20T21:49:08.698276Z"
    }
   }
  },
  {
   "cell_type": "code",
   "execution_count": 30,
   "outputs": [
    {
     "data": {
      "text/plain": "[([1, 2, 3, 4],), ([5, 6, 7, 8],), ([9, 10, 11, 12],)]"
     },
     "execution_count": 30,
     "metadata": {},
     "output_type": "execute_result"
    }
   ],
   "source": [
    "d = {\n",
    "    \"a\": [1, 2, 3, 4],\n",
    "    \"b\": [5, 6, 7, 8],\n",
    "    \"c\": [9, 10, 11, 12]\n",
    "}\n",
    "\n",
    "output = list(zip())\n",
    "output\n"
   ],
   "metadata": {
    "collapsed": false,
    "ExecuteTime": {
     "end_time": "2023-05-18T14:28:26.896915Z",
     "start_time": "2023-05-18T14:28:26.893437Z"
    }
   }
  },
  {
   "cell_type": "code",
   "execution_count": 33,
   "outputs": [
    {
     "data": {
      "text/plain": "[(1, 5, 9), (2, 6, 10), (3, 7, 11), (4, 8, 12)]"
     },
     "execution_count": 33,
     "metadata": {},
     "output_type": "execute_result"
    }
   ],
   "source": [
    "list(zip([1, 2, 3, 4], [5, 6, 7, 8], [9, 10, 11, 12]))"
   ],
   "metadata": {
    "collapsed": false,
    "ExecuteTime": {
     "end_time": "2023-05-18T14:30:50.340844Z",
     "start_time": "2023-05-18T14:30:50.337829Z"
    }
   }
  },
  {
   "cell_type": "code",
   "execution_count": 14,
   "outputs": [
    {
     "data": {
      "text/plain": "{'A': '2',\n 'B': '2',\n 'C': '2',\n 'D': '3',\n 'E': '3',\n 'F': '3',\n 'G': '4',\n 'H': '4',\n 'I': '4',\n 'J': '5',\n 'K': '5',\n 'L': '5',\n 'M': '6',\n 'N': '6',\n 'O': '6',\n 'P': '7',\n 'Q': '7',\n 'R': '7',\n 'S': '7',\n 'T': '8',\n 'U': '8',\n 'V': '8',\n 'W': '9',\n 'X': '9',\n 'Y': '9',\n 'Z': '9'}"
     },
     "execution_count": 14,
     "metadata": {},
     "output_type": "execute_result"
    }
   ],
   "source": [
    "alph = 'ABCDEFGHIJKLMNOPQRSTUVWXYZ'\n",
    "num = '22233344455566677778889999'\n",
    "\n",
    "keypad = dict(zip(alph, num))\n",
    "keypad"
   ],
   "metadata": {
    "collapsed": false,
    "ExecuteTime": {
     "end_time": "2023-05-11T13:28:41.812725Z",
     "start_time": "2023-05-11T13:28:41.808853Z"
    }
   }
  },
  {
   "cell_type": "code",
   "execution_count": 15,
   "outputs": [
    {
     "data": {
      "text/plain": "'800-366-7889'"
     },
     "execution_count": 15,
     "metadata": {},
     "output_type": "execute_result"
    }
   ],
   "source": [
    "phone_number = '800-FOO-QUUX'\n",
    "\"\".join([keypad.get(x, x) for x in phone_number])"
   ],
   "metadata": {
    "collapsed": false,
    "ExecuteTime": {
     "end_time": "2023-05-11T13:30:22.689466Z",
     "start_time": "2023-05-11T13:30:22.684477Z"
    }
   }
  },
  {
   "cell_type": "code",
   "execution_count": null,
   "outputs": [],
   "source": [],
   "metadata": {
    "collapsed": false
   }
  }
 ],
 "metadata": {
  "kernelspec": {
   "display_name": "Python 3",
   "language": "python",
   "name": "python3"
  },
  "language_info": {
   "codemirror_mode": {
    "name": "ipython",
    "version": 2
   },
   "file_extension": ".py",
   "mimetype": "text/x-python",
   "name": "python",
   "nbconvert_exporter": "python",
   "pygments_lexer": "ipython2",
   "version": "2.7.6"
  }
 },
 "nbformat": 4,
 "nbformat_minor": 0
}
